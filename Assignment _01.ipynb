{
 "cells": [
  {
   "cell_type": "markdown",
   "metadata": {},
   "source": [
    "# Data Types and Structures Questions"
   ]
  },
  {
   "cell_type": "markdown",
   "metadata": {},
   "source": [
    "1. What are data structures, and why are they important?\n",
    "  >> Data structure is are building block of computer which can stores in the form of strings, lists,dictionaries,sets, organise the data and manipulet data efficiantly. and also helps to handle the data in meaningfull way. its easy to acess so data structures are important.\n",
    "\n",
    "2. Explain the difference between mutable and immutable data types with examples?\n",
    "  >> mutable data types > The data type which can easily modifies easily according to our needs we can easily add,remove,replace,change or assigne new value in data structure.  examples are list, sets, dictionaries etc.\n",
    "  >> Immutable data structure >> The data structure which can not modify they are fixed. examples are string, tupple etc.\n",
    "\n",
    "3. What are the main differences between lists and tuples in Python?\n",
    "  >> lists are mutable data structure which can easily modified according to need but Tupples are immutable they can not modify either we can create a new tupple or copy them to modify.\n",
    "\n",
    "4. Describe how dictionaries store data?\n",
    "  >> Dictionary stores the data in {} this brackets in the form of key:value pair in single or double quote if data is str if data is int or float then no need of quotes. example = {\"name\":\"Ramesh\",\"mobile\":1234567890}\n",
    "\n",
    "5. Why might you use a set instead of a list in Python?\n",
    "  >> Set have ability to store unique element and we can add multiple elements in it without any repeatition so sets are used insted of lists.\n",
    "\n",
    "6. What is a string in Python, and how is it different from a list?\n",
    "  >> string is the data structure which is written in \"\" double or '' single or triple single/double quotes which is used to store values/any things and they are immutable but list are muttable as like strings are different from list.\n",
    "\n",
    "7. How do tuples ensure data integrity in Python?\n",
    "  >>Tupples are immutable and their values can not be changed after creating this structre uses as we need to handle data as like tupples insures integrity.\n",
    "\n",
    "8. What is a hashable, and how does it relate to dictionaries in Python?\n",
    "  >> if the hashvalue of an element is doesnot change. it is usable as key in dictionaries. Immutable typws like strings, numbers and tuples are hashsable they ensuring data integrity.\n",
    "\n",
    "9. Can lists contain different data types in Python?\n",
    "  >> yes list conatains integer, strings, float, or other list also.\n",
    "\n",
    "10. Explain why strings are immutable in Python?\n",
    "  >>  Strings are immmutable to ensure sequrity, thread sefty and prioritizing safety, consistenccy and efficiency.\n",
    "\n",
    "11. What advantages do dictionaries offer over lists for certain tasks?\n",
    "  >> Dictionaries are more efficient in organising data as key value pairs, and they have fadster lookup due to key based acess. Dictionaries show flexible and discriptive data .\n",
    "\n",
    "12. Describe a scenario where using a tuple would be preferable over a list\n",
    "  >> if we want to strores employ id/employee names  of a company worker that will never edited/changed so we have to stored them in tupple not list. to manage data efficiently and prevents accidental changes.\n",
    "\n",
    "13. How do sets handle duplicate values in Python?\n",
    "  >> set stores unique elements in set and atomatically remove duplicate values without any error.\n",
    "\n",
    "14. How does the “in” keyword work differently for lists and dictionaries?\n",
    "  >> In list \"in\" keyword check the value is present in list or not. while in dictionaries it checks the key is present or not it doesnt check value in dicttionary.\n",
    "\n",
    "15. Can you modify the elements of a tuple? Explain why or why not\n",
    "  >> No, Tuple is immutable data type means we can not modify it but we can create a new tuple as modified tupple.\n",
    "\n",
    "16. What is a nested dictionary, and give an example of its use case?\n",
    "  >> nested dictionary means dictionary in dictionary. info = {\"schol\": \"xyz\", \"class\":\"data science\",\"students\":{\"stu1\":\"arav\", \"stu2\":\"rakesh\", \"stu3\":\"ravi\"}} . This is example and it is used to stores some key-pairs in value of main dictionary.\n",
    "\n",
    "17. Describe the time complexity of accessing elements in a dictionary.\n",
    "  >> Accessing an element in a dictionary is usually very fast because Python uses a system called hashing to find things quickly. Most of the time.\n",
    "\n",
    "18. In what situations are lists preferred over dictionaries?\n",
    "  >> If we have to store only values, or stores duplicate elements then we have to prefer list over dictionaries.\n",
    "\n",
    "19. Why are dictionaries considered unordered, and how does that affect data retrieval?\n",
    "  >> Dictionaries are considered unordered because their elements (key-value pairs) don’t have a fixed sequence—they are stored based on hash values, not their insertion order\n",
    "\n",
    "20. Explain the difference between a list and a dictionary in terms of data retrieval.\n",
    "  >> In list we can access elements by indexing beacuse its ordered elements, but Dictionaries are unordered collection of data so, we access values using key is the main difference list and dictionaries for data retrival."
   ]
  },
  {
   "cell_type": "markdown",
   "metadata": {},
   "source": [
    "# Practical Questions\n"
   ]
  },
  {
   "cell_type": "code",
   "execution_count": 1,
   "metadata": {},
   "outputs": [
    {
     "name": "stdout",
     "output_type": "stream",
     "text": [
      "Prathamesh\n"
     ]
    }
   ],
   "source": [
    "# Q1. Write a code to create a string with your name and print it?\n",
    "\n",
    "name = \"Prathamesh\"\n",
    "print(name)"
   ]
  },
  {
   "cell_type": "code",
   "execution_count": 2,
   "metadata": {},
   "outputs": [
    {
     "name": "stdout",
     "output_type": "stream",
     "text": [
      "11\n"
     ]
    }
   ],
   "source": [
    "# Q2. Write a code to find the length of the string \"Hello World\"\n",
    "\n",
    "a = \"Hello World\"\n",
    "print(len(a))"
   ]
  },
  {
   "cell_type": "code",
   "execution_count": 5,
   "metadata": {},
   "outputs": [
    {
     "name": "stdout",
     "output_type": "stream",
     "text": [
      "Pyt\n"
     ]
    }
   ],
   "source": [
    "# Q3. Write a code to slice the first 3 characters from the string \"Python Programming\"\n",
    "\n",
    "a = \"Python Programing\"\n",
    "print(a[0:3])"
   ]
  },
  {
   "cell_type": "code",
   "execution_count": 8,
   "metadata": {},
   "outputs": [
    {
     "name": "stdout",
     "output_type": "stream",
     "text": [
      "HELLO\n"
     ]
    }
   ],
   "source": [
    "# Q4. Write a code to convert the string \"hello\" to uppercase\n",
    "\n",
    "h = \"hello\"\n",
    "print(h.upper())"
   ]
  },
  {
   "cell_type": "code",
   "execution_count": 9,
   "metadata": {},
   "outputs": [
    {
     "name": "stdout",
     "output_type": "stream",
     "text": [
      "I like Orange\n"
     ]
    }
   ],
   "source": [
    "# Q5. Write a code to replace the word \"apple\" with \"orange\" in the string \"I like apple\"\n",
    "\n",
    "x = \"I like apple\"\n",
    "x1 = x.replace(\"apple\", \"Orange\")\n",
    "print(x1)"
   ]
  },
  {
   "cell_type": "code",
   "execution_count": 10,
   "metadata": {},
   "outputs": [
    {
     "name": "stdout",
     "output_type": "stream",
     "text": [
      "[1, 2, 3, 4, 5]\n"
     ]
    }
   ],
   "source": [
    "# Q6. Write a code to create a list with numbers 1 to 5 and print it\n",
    "\n",
    "l = [1, 2, 3, 4, 5]\n",
    "print(l)"
   ]
  },
  {
   "cell_type": "code",
   "execution_count": 11,
   "metadata": {},
   "outputs": [
    {
     "name": "stdout",
     "output_type": "stream",
     "text": [
      "[1, 2, 3, 4, 10]\n"
     ]
    }
   ],
   "source": [
    "# Q7. Write a code to append the number 10 to the list [1, 2, 3, 4]\n",
    "\n",
    "l = [1, 2, 3, 4]\n",
    "l.append(10)\n",
    "print(l)"
   ]
  },
  {
   "cell_type": "code",
   "execution_count": 13,
   "metadata": {},
   "outputs": [
    {
     "name": "stdout",
     "output_type": "stream",
     "text": [
      "[1, 2, 4, 5]\n"
     ]
    }
   ],
   "source": [
    "# Q8. Write a code to remove the number 3 from the list [1, 2, 3, 4, 5]\n",
    "\n",
    "l = [1, 2, 3, 4, 5]\n",
    "l.remove(3)\n",
    "print(l)"
   ]
  },
  {
   "cell_type": "code",
   "execution_count": 14,
   "metadata": {},
   "outputs": [
    {
     "name": "stdout",
     "output_type": "stream",
     "text": [
      "b\n"
     ]
    }
   ],
   "source": [
    "# Q9. Write a code to access the second element in the list ['a', 'b', 'c', 'd']\n",
    "\n",
    "l = ['a', 'b', 'c', 'd']\n",
    "print(l[1])"
   ]
  },
  {
   "cell_type": "code",
   "execution_count": 20,
   "metadata": {},
   "outputs": [
    {
     "name": "stdout",
     "output_type": "stream",
     "text": [
      "[50, 40, 30, 20, 10]\n"
     ]
    }
   ],
   "source": [
    "# Q10. Write a code to reverse the list [10, 20, 30, 40, 50]\n",
    "\n",
    "l = [10, 20, 30, 40, 50]\n",
    "l.reverse()\n",
    "print(l)"
   ]
  },
  {
   "cell_type": "code",
   "execution_count": 22,
   "metadata": {},
   "outputs": [
    {
     "name": "stdout",
     "output_type": "stream",
     "text": [
      "(100, 200, 300)\n"
     ]
    }
   ],
   "source": [
    "# Q11. Write a code to create a tuple with the elements 100, 200, 300 and print it.\n",
    "t = (100, 200, 300)\n",
    "print(t)"
   ]
  },
  {
   "cell_type": "code",
   "execution_count": 23,
   "metadata": {},
   "outputs": [
    {
     "name": "stdout",
     "output_type": "stream",
     "text": [
      "blue\n"
     ]
    }
   ],
   "source": [
    "# Q12. Write a code to access the second-to-last element of the tuple ('red', 'green', 'blue', 'yellow').\n",
    "\n",
    "t = ('red', 'green', 'blue', 'yellow')\n",
    "print(t[-2])"
   ]
  },
  {
   "cell_type": "code",
   "execution_count": 25,
   "metadata": {},
   "outputs": [
    {
     "name": "stdout",
     "output_type": "stream",
     "text": [
      "5\n"
     ]
    }
   ],
   "source": [
    "# Q13. Write a code to find the minimum number in the tuple (10, 20, 5, 15)\n",
    "\n",
    "t = (10, 20, 5, 15)\n",
    "print(min(t))"
   ]
  },
  {
   "cell_type": "code",
   "execution_count": 26,
   "metadata": {},
   "outputs": [
    {
     "name": "stdout",
     "output_type": "stream",
     "text": [
      "1\n"
     ]
    }
   ],
   "source": [
    "# Q14. Write a code to find the index of the element \"cat\" in the tuple ('dog', 'cat', 'rabbit').\n",
    "\n",
    "t = ('dog', 'cat', 'rabbit')\n",
    "print(t.index(\"cat\"))"
   ]
  },
  {
   "cell_type": "code",
   "execution_count": 29,
   "metadata": {},
   "outputs": [
    {
     "name": "stdout",
     "output_type": "stream",
     "text": [
      "True\n"
     ]
    }
   ],
   "source": [
    "# Q15. Write a code to create a tuple containing three different fruits and check if \"kiwi\" is in it.\n",
    "\n",
    "fruit = ('mango', 'kiwi', 'orange')\n",
    "a = \"kiwi\" in fruit\n",
    "print(a)"
   ]
  },
  {
   "cell_type": "code",
   "execution_count": 32,
   "metadata": {},
   "outputs": [
    {
     "name": "stdout",
     "output_type": "stream",
     "text": [
      "{'c', 'a', 'b'}\n"
     ]
    }
   ],
   "source": [
    "# Q16. Write a code to create a set with the elements 'a', 'b', 'c' and print it\n",
    "s = {'a', 'b', 'c'}\n",
    "print(s)"
   ]
  },
  {
   "cell_type": "code",
   "execution_count": 33,
   "metadata": {},
   "outputs": [
    {
     "name": "stdout",
     "output_type": "stream",
     "text": [
      "set()\n"
     ]
    }
   ],
   "source": [
    "# Q17. Write a code to clear all elements from the set {1, 2, 3, 4, 5}.\n",
    "\n",
    "s = {1, 2, 3, 4, 5}\n",
    "s.clear()\n",
    "print(s)"
   ]
  },
  {
   "cell_type": "code",
   "execution_count": 35,
   "metadata": {},
   "outputs": [
    {
     "name": "stdout",
     "output_type": "stream",
     "text": [
      "{1, 2, 3}\n"
     ]
    }
   ],
   "source": [
    "# Q18. Write a code to remove the element 4 from the set {1, 2, 3, 4}\n",
    "\n",
    "s = {1, 2, 3, 4}\n",
    "s.remove(4)\n",
    "print(s)"
   ]
  },
  {
   "cell_type": "code",
   "execution_count": 36,
   "metadata": {},
   "outputs": [
    {
     "name": "stdout",
     "output_type": "stream",
     "text": [
      "{1, 2, 3, 4, 5}\n"
     ]
    }
   ],
   "source": [
    "# Q19. Write a code to find the union of two sets {1, 2, 3} and {3, 4, 5}.\n",
    "\n",
    "a = {1, 2, 3} \n",
    "b = {3, 4, 5}\n",
    "print(a.union(b))"
   ]
  },
  {
   "cell_type": "code",
   "execution_count": 37,
   "metadata": {},
   "outputs": [
    {
     "name": "stdout",
     "output_type": "stream",
     "text": [
      "{2, 3}\n"
     ]
    }
   ],
   "source": [
    "# Q20. Write a code to find the intersection of two sets {1, 2, 3} and {2, 3, 4}.\n",
    "\n",
    "a = {1, 2, 3} \n",
    "b = {2, 3, 4}\n",
    "print(a.intersection(b))"
   ]
  },
  {
   "cell_type": "code",
   "execution_count": 38,
   "metadata": {},
   "outputs": [
    {
     "name": "stdout",
     "output_type": "stream",
     "text": [
      "{'name': 'prathamesh', 'age': 22, 'city': 'Beed'}\n"
     ]
    }
   ],
   "source": [
    "# Q21. Write a code to create a dictionary with the keys \"name\", \"age\", and \"city\", and print it.\n",
    "\n",
    "d = {\"name\":\"prathamesh\", \"age\":22, \"city\":\"Beed\"}\n",
    "print(d)"
   ]
  },
  {
   "cell_type": "code",
   "execution_count": 42,
   "metadata": {},
   "outputs": [
    {
     "name": "stdout",
     "output_type": "stream",
     "text": [
      "{'name': 'John', 'age': 25, 'country': 'USA'}\n"
     ]
    }
   ],
   "source": [
    "# Q22. Write a code to add a new key-value pair \"country\": \"USA\" to the dictionary {'name': 'John', 'age': 25}.\n",
    "\n",
    "a = {'name': 'John', 'age': 25}\n",
    "a.update({\"country\":\"USA\"})\n",
    "print(a)"
   ]
  },
  {
   "cell_type": "code",
   "execution_count": 43,
   "metadata": {},
   "outputs": [
    {
     "name": "stdout",
     "output_type": "stream",
     "text": [
      "Alice\n"
     ]
    }
   ],
   "source": [
    "# Q23. Write a code to access the value associated with the key \"name\" in the dictionary {'name': 'Alice', 'age': 30}.\n",
    "\n",
    "d = {'name': 'Alice', 'age': 30}\n",
    "print(d.get(\"name\"))"
   ]
  },
  {
   "cell_type": "code",
   "execution_count": 44,
   "metadata": {},
   "outputs": [
    {
     "name": "stdout",
     "output_type": "stream",
     "text": [
      "{'name': 'Bob', 'city': 'New York'}\n"
     ]
    }
   ],
   "source": [
    "# Q24. Write a code to remove the key \"age\" from the dictionary {'name': 'Bob', 'age': 22, 'city': 'New York'}.\n",
    "\n",
    "d = {'name': 'Bob', 'age': 22, 'city': 'New York'}\n",
    "d.pop(\"age\")\n",
    "print(d)"
   ]
  },
  {
   "cell_type": "code",
   "execution_count": 1,
   "metadata": {},
   "outputs": [
    {
     "name": "stdout",
     "output_type": "stream",
     "text": [
      "True\n"
     ]
    }
   ],
   "source": [
    "# Q25. Write a code to check if the key \"city\" exists in the dictionary {'name': 'Alice', 'city': 'Paris'}.\n",
    "\n",
    "d = {'name': 'Alice', 'city': 'Paris'}\n",
    "print(\"city\" in d)\n"
   ]
  },
  {
   "cell_type": "code",
   "execution_count": null,
   "metadata": {},
   "outputs": [
    {
     "name": "stdout",
     "output_type": "stream",
     "text": [
      "[1, 'Ram', 5, 8, 'sita'] <class 'list'>\n",
      "(1, 'Ram', 5, 8, 'sita') <class 'tuple'>\n",
      "{'name': 'Arav', 'number': 454575} <class 'dict'>\n"
     ]
    }
   ],
   "source": [
    "# Q26. Write a code to create a list, a tuple, and a dictionary, and print them all.\n",
    "\n",
    "#list is here\n",
    "l = [1, \"Ram\", 5,8, \"sita\"]\n",
    "print(l,type(l))\n",
    "\n",
    "#here is tuple\n",
    "t =(1, \"Ram\", 5,8, \"sita\")\n",
    "print(t, type(t))\n",
    "\n",
    "#here is dictionary\n",
    "d = {\"name\":\"Arav\", \"number\":454575}\n",
    "print(d,type(d))"
   ]
  },
  {
   "cell_type": "code",
   "execution_count": 49,
   "metadata": {},
   "outputs": [
    {
     "name": "stdout",
     "output_type": "stream",
     "text": [
      "[1, 56, 76, 87, 97]\n"
     ]
    }
   ],
   "source": [
    "# Q27. Write a code to create a list of 5 random numbers between 1 and 100, sort it in ascending order, and print the \n",
    "# result.(replaced)\n",
    "\n",
    "l = [87, 56,97,1,76]\n",
    "l.sort()\n",
    "print(l)"
   ]
  },
  {
   "cell_type": "code",
   "execution_count": 50,
   "metadata": {},
   "outputs": [
    {
     "name": "stdout",
     "output_type": "stream",
     "text": [
      "Vinod\n"
     ]
    }
   ],
   "source": [
    "# Q28. Write a code to create a list with strings and print the element at the third index.\n",
    "\n",
    "l = [\"Sachin\", \"Nilesh\", \"Santosh\",\"Vinod\"]\n",
    "print(l[3])"
   ]
  },
  {
   "cell_type": "code",
   "execution_count": 52,
   "metadata": {},
   "outputs": [
    {
     "name": "stdout",
     "output_type": "stream",
     "text": [
      "{'name': 'Ram', 'age': 26, 'city': 'banglore', 'profession': 'Data scientiest'}\n"
     ]
    }
   ],
   "source": [
    "# Q29. Write a code to combine two dictionaries into one and print the result.\n",
    "\n",
    "a = {\"name\":\"Ram\", \"age\":26}\n",
    "b = {\"city\":\"banglore\", \"profession\":\"Data scientiest\"}\n",
    "a.update(b)\n",
    "print(a)"
   ]
  },
  {
   "cell_type": "code",
   "execution_count": 54,
   "metadata": {},
   "outputs": [
    {
     "name": "stdout",
     "output_type": "stream",
     "text": [
      "{'Vinod', 'Nilesh', 'Santosh', 'Sachin'}\n"
     ]
    }
   ],
   "source": [
    "# Q30. Write a code to convert a list of strings into a set.\n",
    "\n",
    "l = [\"Sachin\", \"Nilesh\", \"Santosh\",\"Vinod\",\"Nilesh\"]\n",
    "l = set(l)\n",
    "print(l)"
   ]
  },
  {
   "cell_type": "code",
   "execution_count": null,
   "metadata": {},
   "outputs": [],
   "source": []
  }
 ],
 "metadata": {
  "kernelspec": {
   "display_name": "Python 3",
   "language": "python",
   "name": "python3"
  },
  "language_info": {
   "codemirror_mode": {
    "name": "ipython",
    "version": 3
   },
   "file_extension": ".py",
   "mimetype": "text/x-python",
   "name": "python",
   "nbconvert_exporter": "python",
   "pygments_lexer": "ipython3",
   "version": "3.13.2"
  }
 },
 "nbformat": 4,
 "nbformat_minor": 2
}
